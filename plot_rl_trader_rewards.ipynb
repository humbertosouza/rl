{
  "nbformat": 4,
  "nbformat_minor": 0,
  "metadata": {
    "colab": {
      "name": "plot_rl_trader_rewards.ipynb",
      "provenance": [],
      "collapsed_sections": [],
      "include_colab_link": true
    },
    "kernelspec": {
      "name": "python3",
      "display_name": "Python 3"
    }
  },
  "cells": [
    {
      "cell_type": "markdown",
      "metadata": {
        "id": "view-in-github",
        "colab_type": "text"
      },
      "source": [
        "<a href=\"https://colab.research.google.com/github/humbertosouza/rl/blob/master/plot_rl_trader_rewards.ipynb\" target=\"_parent\"><img src=\"https://colab.research.google.com/assets/colab-badge.svg\" alt=\"Open In Colab\"/></a>"
      ]
    },
    {
      "cell_type": "code",
      "metadata": {
        "id": "cMLQ3wFHu2Jk",
        "colab_type": "code",
        "colab": {
          "base_uri": "https://localhost:8080/",
          "height": 333
        },
        "outputId": "3442f729-3fef-400b-afb2-48fc1afb8f3b"
      },
      "source": [
        "import matplotlib.pyplot as plt\n",
        "import numpy as np\n",
        "import argparse\n",
        "\n",
        "#============================================================\n",
        "# On local\n",
        "#parser = argparse.ArgumentParser()\n",
        "#parser.add_argument('-m', '--mode', type=str, required=True,\n",
        "#                    help='either \"train\" or \"test\"')\n",
        "#args = parser.parse_args()\n",
        "#mode = args.mode\n",
        "#url = f'linear_rl_trader_rewards/{mode}.npy'\n",
        "#============================================================\n",
        "\n",
        "\n",
        "#============================================================\n",
        "#On Colab\n",
        "mode = 'test'\n",
        "from google.colab import drive\n",
        "drive.mount('/content/drive')\n",
        "url = f'/content/drive/My Drive/Colab Notebooks/rl/final/linear_rl_trader_rewards/{mode}.npy'\n",
        "#============================================================\n",
        "\n",
        "a = np.load(url)\n",
        "\n",
        "print(f\"average reward: {a.mean():.2f}, min: {a.min():.2f}, max: {a.max():.2f}\")\n",
        "\n",
        "plt.hist(a, bins=20)\n",
        "plt.title(mode)\n",
        "plt.show()\n",
        "plt.savefig(f'/content/drive/My Drive/Colab Notebooks/rl/final/linear_rl_trader_rewards/{mode}-{a.mean()}.jpg')"
      ],
      "execution_count": 15,
      "outputs": [
        {
          "output_type": "stream",
          "text": [
            "Drive already mounted at /content/drive; to attempt to forcibly remount, call drive.mount(\"/content/drive\", force_remount=True).\n",
            "average reward: 24156.29, min: 13909.29, max: 51679.99\n"
          ],
          "name": "stdout"
        },
        {
          "output_type": "display_data",
          "data": {
            "image/png": "[encoded data removed]",
            "text/plain": [
              "<Figure size 432x288 with 1 Axes>"
            ]
          },
          "metadata": {
            "tags": []
          }
        },
        {
          "output_type": "display_data",
          "data": {
            "text/plain": [
              "<Figure size 432x288 with 0 Axes>"
            ]
          },
          "metadata": {
            "tags": []
          }
        }
      ]
    }
  ]
}