{
  "nbformat": 4,
  "nbformat_minor": 0,
  "metadata": {
    "colab": {
      "name": "plot_rl_trader_rewards.ipynb",
      "provenance": [],
      "collapsed_sections": [],
      "include_colab_link": true
    },
    "kernelspec": {
      "name": "python3",
      "display_name": "Python 3"
    }
  },
  "cells": [
    {
      "cell_type": "markdown",
      "metadata": {
        "id": "view-in-github",
        "colab_type": "text"
      },
      "source": [
        "<a href=\"https://colab.research.google.com/github/humbertosouza/rl/blob/master/plot_rl_trader_rewards.ipynb\" target=\"_parent\"><img src=\"https://colab.research.google.com/assets/colab-badge.svg\" alt=\"Open In Colab\"/></a>"
      ]
    },
    {
      "cell_type": "code",
      "metadata": {
        "id": "cMLQ3wFHu2Jk",
        "colab_type": "code",
        "outputId": "69b602c6-40d0-4fd6-cc1f-3c605925abc3",
        "colab": {
          "base_uri": "https://localhost:8080/",
          "height": 316
        }
      },
      "source": [
        "import matplotlib.pyplot as plt\n",
        "import numpy as np\n",
        "import argparse\n",
        "\n",
        "\n",
        "# ===========================================================\n",
        "# Code that prints the reward outputs of the rl_stock_final\n",
        "#\n",
        "# Adapted to run on Colab then added th rl_stock_final.py \n",
        "# to make the exploration easier.\n",
        "# reference code was found at\n",
        "# https://github.com/lazyprogrammer/machine_learning_examples/blob/master/rl/plot_rl_rewards.py\n",
        "#\n",
        "# ===========================================================\n",
        "\n",
        "# RUNNING THE CODE\n",
        "#============================================================\n",
        "# On local\n",
        "#parser = argparse.ArgumentParser()\n",
        "#parser.add_argument('-m', '--mode', type=str, required=True,\n",
        "#                    help='either \"train\" or \"test\"')\n",
        "#args = parser.parse_args()\n",
        "#mode = args.mode\n",
        "#url = f'linear_rl_trader_rewards/{mode}.npy'\n",
        "#============================================================\n",
        "\n",
        "\n",
        "#============================================================\n",
        "#On Colab\n",
        "mode = 'test'\n",
        "from google.colab import drive\n",
        "drive.mount('/content/drive')\n",
        "url = f'/content/drive/My Drive/Colab Notebooks/rl/final/linear_rl_trader_rewards/{mode}.npy'\n",
        "#============================================================\n",
        "\n",
        "a = np.load(url)\n",
        "\n",
        "print(f\"average reward: {a.mean():.2f}, min: {a.min():.2f}, max: {a.max():.2f}\")\n",
        "\n",
        "plt.hist(a, bins=20)\n",
        "plt.title(mode)\n",
        "# Prepare to save the figure\n",
        "fig1 = plt.gcf()\n",
        "plt.show()\n",
        "fig1.savefig(f'/content/drive/My Drive/Colab Notebooks/rl/final/linear_rl_trader_rewards/{mode}-{a.mean()}.png')"
      ],
      "execution_count": 0,
      "outputs": [
        {
          "output_type": "stream",
          "text": [
            "Drive already mounted at /content/drive; to attempt to forcibly remount, call drive.mount(\"/content/drive\", force_remount=True).\n",
            "average reward: 22714.12, min: 17545.97, max: 31320.62\n"
          ],
          "name": "stdout"
        },
        {
          "output_type": "display_data",
          "data": {
            "image/png": "[encoded data removed]",
            "text/plain": [
              "<Figure size 432x288 with 1 Axes>"
            ]
          },
          "metadata": {
            "tags": []
          }
        }
      ]
    }
  ]
}