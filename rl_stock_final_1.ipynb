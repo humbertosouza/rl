{
  "nbformat": 4,
  "nbformat_minor": 0,
  "metadata": {
    "colab": {
      "name": "rl_stock_final_1",
      "provenance": [],
      "collapsed_sections": [],
      "include_colab_link": true
    },
    "kernelspec": {
      "name": "python3",
      "display_name": "Python 3"
    },
    "accelerator": "TPU"
  },
  "cells": [
    {
      "cell_type": "markdown",
      "metadata": {
        "id": "view-in-github",
        "colab_type": "text"
      },
      "source": [
        "<a href=\"https://colab.research.google.com/github/humbertosouza/rl/blob/master/rl_stock_final_1.ipynb\" target=\"_parent\"><img src=\"https://colab.research.google.com/assets/colab-badge.svg\" alt=\"Open In Colab\"/></a>"
      ]
    },
    {
      "cell_type": "code",
      "metadata": {
        "id": "5uoZ3LYJzgXh",
        "colab_type": "code",
        "colab": {}
      },
      "source": [
        "import numpy as np\n",
        "import pandas as pd\n",
        "import matplotlib.pyplot as plt\n",
        "\n",
        "from datetime import datetime\n",
        "import itertools\n",
        "import argparse\n",
        "import re\n",
        "import os\n",
        "import pickle\n",
        "\n",
        "from sklearn.preprocessing import StandardScaler"
      ],
      "execution_count": 0,
      "outputs": []
    },
    {
      "cell_type": "markdown",
      "metadata": {
        "id": "mgPYyB4pVCJZ",
        "colab_type": "text"
      },
      "source": [
        "**Auxiliary non-core functions**\n",
        "\n",
        "The following functions handles the csv datasource, folder creation and the scaler for the linear model preparation.\n",
        "\n",
        "Scaler is of utmost importance to balance very different variables such as asset price, cash available and number of stocks held.\n",
        "\n",
        "The datasource is expected to be already 'clean'\n",
        "\n",
        "It is handled differently when running from colab or from a server (to be called from an API). Refer to 'Main Section' to know more.\n"
      ]
    },
    {
      "cell_type": "code",
      "metadata": {
        "id": "hZJhprmXVCo-",
        "colab_type": "code",
        "colab": {}
      },
      "source": [
        "# Auxiliary functions (non-core)\n",
        "# ==============================\n",
        "\n",
        "# The stock Reference is AAPL (Apple), MSI (Motorola), SBUX (Starbucks)\n",
        "# returns a T x 3 list of stock prices\n",
        "# each row is a different stock\n",
        "# 0 = AAPL\n",
        "# 1 = MSI\n",
        "# 2 = SBUX\n",
        "# You may use 'https://github.com/humbertosouza/rl/blob/master/assignment4/aapl_msi_sbux.csv'\n",
        "#\n",
        "# *** OR ***\n",
        "# The asset reference will be the BTCUSD price\n",
        "#  you may use 'https://github.com/humbertosouza/rl/blob/master/assignment4/BTCUSDT-4h-data-pure.csv'\n",
        "\n",
        "def get_data(url):\n",
        "  df = pd.read_csv(url)\n",
        "  return df.values\n",
        "\n",
        "# return scikit-learn scaler object to scale the states\n",
        "# Note: you could also populate the replay buffer here\n",
        "def get_scaler(env):\n",
        "\n",
        "  states = []\n",
        "  for _ in range(env.n_step):\n",
        "    action = np.random.choice(env.action_space)\n",
        "    state, reward, done, info = env.step(action)\n",
        "    states.append(state)\n",
        "    if done:\n",
        "      break\n",
        "\n",
        "  scaler = StandardScaler()\n",
        "  scaler.fit(states)\n",
        "  return scaler\n",
        "\n",
        "# Creates the foder 'directory' if it does not exist\n",
        "def maybe_make_dir(directory):\n",
        "  if not os.path.exists(directory):\n",
        "    os.makedirs(directory)\n",
        "\n",
        "# Creates the header of a text file for the rewards\n",
        "# Useful for analysis of the hyperparameters\n",
        "def write_txt_header(reward_txt_file, num_episodes,batch_size,initial_investment):\n",
        "  f=open(reward_txt_file,\"a+\")\n",
        "  f.write(\"-----------------------------------------------\\r\\n\")\n",
        "  f.write(\"----------- Starting new cycle ----------------\\r\\n\")\n",
        "  f.write(\"-----------------------------------------------\\r\\n\")\n",
        "  txt_now = f'{datetime.now()}'\n",
        "  f.write(txt_now)\n",
        "  f.write(\"\\r\\n\")\n",
        "  f.write(f'Paramenters: num_episodes:{num_episodes}; batch_size:{batch_size}; initial_investiment:{initial_investment}')\n",
        "  f.write(\"\\r\\n\")\n",
        "  f.close()\n",
        "\n",
        "\n",
        "# End of the Auxiliary functions (non-core)\n",
        "# ========================================="
      ],
      "execution_count": 0,
      "outputs": []
    },
    {
      "cell_type": "markdown",
      "metadata": {
        "id": "CXZF5eXbUmBy",
        "colab_type": "text"
      },
      "source": [
        "**SGD Linear Model Class**\n",
        "\n",
        "The Linear Model implements the functions \n",
        "\n",
        "- Predict\n",
        "- sgd\n",
        "\n",
        "The sgd method implements momentum (W,b) to make the model to cope with the latest trend agains the older ones. It relies on a one-step descent.\n",
        "\n",
        "**SGL Linear Model auxiliary functions**\n",
        "\n",
        "In order to make it faster \n",
        "\n",
        "It also contains the auxiliary functions\n",
        "- load_weights (from a numpy file)\n",
        "- save_weights (to a numpy file)\n",
        "\n"
      ]
    },
    {
      "cell_type": "code",
      "metadata": {
        "id": "qvwaf3s_Umee",
        "colab_type": "code",
        "colab": {}
      },
      "source": [
        "# Implements manually a Linear Model class using Stochastic Gradient Descent\n",
        "class LinearModel:\n",
        "  \"\"\" A linear regression model \"\"\"\n",
        "  def __init__(self, input_dim, n_action):\n",
        "    self.W = np.random.randn(input_dim, n_action) / np.sqrt(input_dim)\n",
        "    self.b = np.zeros(n_action)\n",
        "\n",
        "    # momentum terms\n",
        "    self.vW = 0\n",
        "    self.vb = 0\n",
        "\n",
        "    self.losses = []\n",
        "\n",
        "  def predict(self, X):\n",
        "    # make sure X is N x D\n",
        "    assert(len(X.shape) == 2)\n",
        "    return X.dot(self.W) + self.b\n",
        "\n",
        "  def sgd(self, X, Y, learning_rate=0.01, momentum=0.9):\n",
        "    # make sure X is N x D\n",
        "    assert(len(X.shape) == 2)\n",
        "\n",
        "    # the loss values are 2-D\n",
        "    # normally we would divide by N only\n",
        "    # but now we divide by N x K\n",
        "    num_values = np.prod(Y.shape)\n",
        "\n",
        "    # do one step of gradient descent\n",
        "    # we multiply by 2 to get the exact gradient\n",
        "    # (not adjusting the learning rate)\n",
        "    # i.e. d/dx (x^2) --> 2x\n",
        "    Yhat = self.predict(X)\n",
        "    gW = 2 * X.T.dot(Yhat - Y) / num_values\n",
        "    gb = 2 * (Yhat - Y).sum(axis=0) / num_values\n",
        "\n",
        "    # update momentum terms\n",
        "    self.vW = momentum * self.vW - learning_rate * gW\n",
        "    self.vb = momentum * self.vb - learning_rate * gb\n",
        "\n",
        "    # update params\n",
        "    self.W += self.vW\n",
        "    self.b += self.vb\n",
        "\n",
        "    mse = np.mean((Yhat - Y)**2)\n",
        "    self.losses.append(mse)\n",
        "\n",
        "  # Load weights from Numpy file\n",
        "  def load_weights(self, filepath):\n",
        "    npz = np.load(filepath)\n",
        "    self.W = npz['W']\n",
        "    self.b = npz['b']\n",
        "    \n",
        "  # Save weights to Numpy file\n",
        "  def save_weights(self, filepath):\n",
        "    np.savez(filepath, W=self.W, b=self.b)\n"
      ],
      "execution_count": 0,
      "outputs": []
    },
    {
      "cell_type": "markdown",
      "metadata": {
        "id": "VzZpVdmeT1p2",
        "colab_type": "text"
      },
      "source": [
        "**Multi stock environment class** (3 classes)\n",
        "\n",
        "This class reads the EOD stock prices and makes a decision about what to do with each of them:\n",
        "0. Sell\n",
        "1. Buy\n",
        "2. Hold\n",
        "\n",
        "The environment itself is a vector which contains 7 variables.\n",
        "\n",
        "[assetOwned1,assetOwned2,assetOwned3,priceAsset1,priceAsset2,priceAsset3,cashOwned]\n",
        "\n",
        "It also implements reset which is important for reinitialize the environment and start the next iteration.\n",
        "\n",
        "The environment also implements the step function. It performs the needed updates to provide the agent with the results of all variables in the environment. It also conforms with th OpenAI gym API.\n",
        "\n",
        "The method trade performs the buys and sells accoding to the actions to be taken. It is used in the main method  to populate the env variable that feeds the agent. If under test, it is reloaded with the test data.\n",
        "\n"
      ]
    },
    {
      "cell_type": "code",
      "metadata": {
        "id": "wSlTxLl6T2D9",
        "colab_type": "code",
        "colab": {}
      },
      "source": [
        "# Original class that handles 3-stocks at once\n",
        "class MultiStockEnv:\n",
        "  \"\"\"\n",
        "  A 3-stock trading environment.\n",
        "  State: vector of size 7 (n_stock * 2 + 1)\n",
        "    - # shares of stock 1 owned\n",
        "    - # shares of stock 2 owned\n",
        "    - # shares of stock 3 owned\n",
        "    - price of stock 1 (using daily close price)\n",
        "    - price of stock 2\n",
        "    - price of stock 3\n",
        "    - cash owned (can be used to purchase more stocks)\n",
        "  Action: categorical variable with 27 (3^3) possibilities\n",
        "    - for each stock, you can:\n",
        "    - 0 = sell\n",
        "    - 1 = hold\n",
        "    - 2 = buy\n",
        "  \"\"\"\n",
        "  def __init__(self, data, initial_investment=20000):\n",
        "    # data\n",
        "    self.stock_price_history = data\n",
        "    self.n_step, self.n_stock = self.stock_price_history.shape\n",
        "\n",
        "    # instance attributes\n",
        "    self.initial_investment = initial_investment\n",
        "    self.cur_step = None\n",
        "    self.stock_owned = None\n",
        "    self.stock_price = None\n",
        "    self.cash_in_hand = None\n",
        "\n",
        "    self.action_space = np.arange(3**self.n_stock)\n",
        "\n",
        "    # action permutations\n",
        "    # returns a nested list with elements like:\n",
        "    # [0,0,0]\n",
        "    # [0,0,1]\n",
        "    # [0,0,2]\n",
        "    # [0,1,0]\n",
        "    # [0,1,1]\n",
        "    # etc.\n",
        "    # 0 = sell\n",
        "    # 1 = hold\n",
        "    # 2 = buy\n",
        "    self.action_list = list(map(list, itertools.product([0, 1, 2], repeat=self.n_stock)))\n",
        "\n",
        "    # calculate size of state\n",
        "    self.state_dim = self.n_stock * 2 + 1\n",
        "\n",
        "    self.reset()\n",
        "\n",
        "\n",
        "  def reset(self):\n",
        "    self.cur_step = 0\n",
        "    self.stock_owned = np.zeros(self.n_stock)\n",
        "    self.stock_price = self.stock_price_history[self.cur_step]\n",
        "    self.cash_in_hand = self.initial_investment\n",
        "    return self._get_obs()\n",
        "\n",
        "\n",
        "  def step(self, action):\n",
        "    assert action in self.action_space\n",
        "\n",
        "    # get current value before performing the action\n",
        "    prev_val = self._get_val()\n",
        "\n",
        "    # update price, i.e. go to the next day\n",
        "    self.cur_step += 1\n",
        "    self.stock_price = self.stock_price_history[self.cur_step]\n",
        "\n",
        "    # perform the trade\n",
        "    self._trade(action)\n",
        "\n",
        "    # get the new value after taking the action\n",
        "    cur_val = self._get_val()\n",
        "\n",
        "    # reward is the increase in porfolio value\n",
        "    reward = cur_val - prev_val\n",
        "\n",
        "    # done if we have run out of data\n",
        "    done = self.cur_step == self.n_step - 1\n",
        "\n",
        "    # store the current value of the portfolio here\n",
        "    info = {'cur_val': cur_val}\n",
        "\n",
        "    # conform to the Gym API\n",
        "    return self._get_obs(), reward, done, info\n",
        "\n",
        "\n",
        "  def _get_obs(self):\n",
        "    obs = np.empty(self.state_dim)\n",
        "    obs[:self.n_stock] = self.stock_owned\n",
        "    obs[self.n_stock:2*self.n_stock] = self.stock_price\n",
        "    obs[-1] = self.cash_in_hand\n",
        "    return obs\n",
        "    \n",
        "\n",
        "\n",
        "  def _get_val(self):\n",
        "    return self.stock_owned.dot(self.stock_price) + self.cash_in_hand\n",
        "\n",
        "\n",
        "  def _trade(self, action):\n",
        "    # index the action we want to perform\n",
        "    # 0 = sell\n",
        "    # 1 = hold\n",
        "    # 2 = buy\n",
        "    # e.g. [2,1,0] means:\n",
        "    # buy first stock\n",
        "    # hold second stock\n",
        "    # sell third stock\n",
        "    action_vec = self.action_list[action]\n",
        "\n",
        "    # determine which stocks to buy or sell\n",
        "    sell_index = [] # stores index of stocks we want to sell\n",
        "    buy_index = [] # stores index of stocks we want to buy\n",
        "    for i, a in enumerate(action_vec):\n",
        "      if a == 0:\n",
        "        sell_index.append(i)\n",
        "      elif a == 2:\n",
        "        buy_index.append(i)\n",
        "\n",
        "    # sell any stocks we want to sell\n",
        "    # then buy any stocks we want to buy\n",
        "    if sell_index:\n",
        "      # NOTE: to simplify the problem, when we sell, we will sell ALL shares of that stock\n",
        "      for i in sell_index:\n",
        "        self.cash_in_hand += self.stock_price[i] * self.stock_owned[i]\n",
        "        self.stock_owned[i] = 0\n",
        "    if buy_index:\n",
        "      # NOTE: when buying, we will loop through each stock we want to buy,\n",
        "      #       and buy one share at a time until we run out of cash\n",
        "      can_buy = True\n",
        "      while can_buy:\n",
        "        for i in buy_index:\n",
        "          if self.cash_in_hand > self.stock_price[i]:\n",
        "            self.stock_owned[i] += 1 # buy one share\n",
        "            self.cash_in_hand -= self.stock_price[i]\n",
        "          else:\n",
        "            can_buy = False\n"
      ],
      "execution_count": 0,
      "outputs": []
    },
    {
      "cell_type": "markdown",
      "metadata": {
        "id": "m2I0v7iPTAVU",
        "colab_type": "text"
      },
      "source": [
        "**Agent Class**\n",
        "\n",
        "This class implements the agent that relies on the linear model to define the error amongst the actions taken in a given state. Q(s,;)\n",
        "It is a e-greedy approach with a decaying factor and minimum defined in its __init__ function.\n",
        "The RL policy will vary according to the iterations ineach batch.\n"
      ]
    },
    {
      "cell_type": "code",
      "metadata": {
        "id": "PEnX-eQBTBBq",
        "colab_type": "code",
        "colab": {}
      },
      "source": [
        "class DQNAgent(object):\n",
        "  def __init__(self, state_size, action_size, gamma=0.95, epsilon=1.0):\n",
        "    self.state_size = state_size\n",
        "    self.action_size = action_size\n",
        "    self.gamma = gamma  # discount rate\n",
        "    self.epsilon = epsilon  # exploration rate\n",
        "    self.epsilon_min = 0.05\n",
        "    self.epsilon_decay = 0.995\n",
        "    self.model = LinearModel(state_size, action_size)\n",
        "\n",
        "  def act(self, state):\n",
        "    if np.random.rand() <= self.epsilon:\n",
        "      return np.random.choice(self.action_size)\n",
        "    act_values = self.model.predict(state)\n",
        "    return np.argmax(act_values[0])  # returns action\n",
        "\n",
        "\n",
        "  def train(self, state, action, reward, next_state, done):\n",
        "    if done:\n",
        "      target = reward\n",
        "    else:\n",
        "      target = reward + self.gamma * np.amax(self.model.predict(next_state), axis=1)\n",
        "\n",
        "    target_full = self.model.predict(state)\n",
        "    target_full[0, action] = target\n",
        "\n",
        "    # Run one training step\n",
        "    self.model.sgd(state, target_full)\n",
        "\n",
        "    if self.epsilon > self.epsilon_min:\n",
        "      self.epsilon *= self.epsilon_decay\n",
        "\n",
        "\n",
        "  def load(self, name):\n",
        "    self.model.load_weights(name)\n",
        "\n",
        "\n",
        "  def save(self, name):\n",
        "    self.model.save_weights(name)\n",
        "\n",
        "\n",
        "\n"
      ],
      "execution_count": 0,
      "outputs": []
    },
    {
      "cell_type": "markdown",
      "metadata": {
        "id": "6s0CdE_0TI1V",
        "colab_type": "text"
      },
      "source": [
        "**Play one episode class**\n",
        "\n",
        "The class where a full state is handled.\n",
        "\n",
        "It gets the current state of the environment, rescales.\n",
        "\n",
        "Then it will play the episode until it is done.\n",
        "In the loop,the agent takes an action based on the current state.\n",
        "\n",
        "Then the action is applied to the environment via env.step. It returns the tuple next_state,reward,done and info.\n",
        "\n",
        "Inside the loop it is also verified if we are in train mode. If so, it calls the agent.train.\n",
        "\n",
        "Finally, the last action of the loop is apply the state to the recently acquired next_state variable.\n",
        "\n",
        "The function returns the curent portfolio value."
      ]
    },
    {
      "cell_type": "code",
      "metadata": {
        "id": "pAEkUpYzTJZL",
        "colab_type": "code",
        "colab": {}
      },
      "source": [
        "def play_one_episode(agent, env, is_train):\n",
        "  # note: after transforming states are already 1xD\n",
        "  state = env.reset()\n",
        "  state = scaler.transform([state])\n",
        "  done = False\n",
        "\n",
        "  while not done:\n",
        "    action = agent.act(state)\n",
        "    next_state, reward, done, info = env.step(action)\n",
        "    next_state = scaler.transform([next_state])\n",
        "    if is_train == 'train':\n",
        "      agent.train(state, action, reward, next_state, done)\n",
        "    state = next_state\n",
        "\n",
        "  return info['cur_val']"
      ],
      "execution_count": 0,
      "outputs": []
    },
    {
      "cell_type": "markdown",
      "metadata": {
        "id": "PErv-gFO1Uey",
        "colab_type": "text"
      },
      "source": [
        "**Main section**\n",
        "\n",
        "The next section is the \"main\" section when converting it to run under a server, as a .py file.\n",
        "\n",
        "> The 'Main'  does the following:\n",
        "\n",
        "1. Defines in which folder the models will be saved\n",
        "2. Defines the folder where the rewards will be saved  \n",
        "3. Check if it is train or test\n",
        "4.   Load the dataset\n",
        "5.   Define # of episodes, batch size and initial investment\n",
        "5. split the data in train and test (dividing the dataset in 2)\n",
        "6.   Loads the environment, agent and run train or test\n",
        "8. Instantiate the objects using the parameters loaded into the variables\n",
        "7.   Save the train (pandas) file for future usage\n",
        "8.   Plot the chart***\n",
        "\n",
        "The train /test cycle is expected to happen after every new cycle. In this case, new EOD - end of day trigger)\n",
        "\n",
        "\n",
        "\n",
        "\n",
        "\n",
        "\n"
      ]
    },
    {
      "cell_type": "code",
      "metadata": {
        "id": "nlBbE2UY00UN",
        "colab_type": "code",
        "outputId": "b853fd56-2c3d-44c8-8754-24a1a6c6d5d1",
        "colab": {
          "base_uri": "https://localhost:8080/",
          "height": 1000
        }
      },
      "source": [
        "# Adapted to run via Colab\n",
        "# ------------------------\n",
        "from google.colab import drive\n",
        "drive.mount('/content/drive')\n",
        "\n",
        "# For tests, adjusts and evaluation require the files:\n",
        "#\n",
        "# BTCUSDT-4h-data-pure.csv\n",
        "#  *or*\n",
        "# aapl_msi_sbux.csv\n",
        "\n",
        "\n",
        "# Set hyperparameters\n",
        "# (gamma, epslon, mode)\n",
        "# The parameters vary between 1 and 0\n",
        "# Mode can be train or test\n",
        "exploreHyper = [\n",
        "    (0.95,0.95,'train'),(0.95,0.95,'test'),\n",
        "    (0.95,0.6,'train'),(0.95,0.6,'test'),\n",
        "    (0.75,0.95,'train'),(0.75,0.95,'test'),\n",
        "    (0.75,0.6,'train'),(0.75,0.6,'test'),\n",
        "    (0.55,0.95,'train'),(0.55,0.95,'test'),\n",
        "    (0.55,0.6,'train'),(0.55,0.6,'test'),\n",
        "    (0.45,0.95,'train'),(0.45,0.95,'test'),\n",
        "    (0.45,0.6,'train'),(0.45,0.6,'test'),\n",
        "]  \n",
        "  \n",
        "# config\n",
        "num_episodes = 2000\n",
        "batch_size = 16\n",
        "initial_investment = 20000\n",
        "# Select source file\n",
        "file = f'/content/drive/My Drive/Colab Notebooks/rl/final/BTCUSDT-4h-data-pure.csv'\n",
        "#file = f'/content/drive/My Drive/Colab Notebooks/rl/final/aapl_msi_sbux.csv' \n",
        "\n",
        "# Report text file containing the rewards from different parameters\n",
        "reward_txt_file = f'/content/drive/My Drive/Colab Notebooks/rl/final/rewards_report.txt'\n",
        "\n",
        "write_txt_header(reward_txt_file,num_episodes,batch_size,initial_investment)\n",
        "\n",
        "for gamma,epsilon, mode in exploreHyper:  \n",
        "  colabEnv = mode\n",
        "  models_folder = f'/content/drive/My Drive/Colab Notebooks/rl/final/linear_rl_trader_models_{gamma}_{epsilon}'\n",
        "  rewards_folder = f'/content/drive/My Drive/Colab Notebooks/rl/final/linear_rl_trader_rewards_{gamma}_{epsilon}'\n",
        "\n",
        "  maybe_make_dir(models_folder)\n",
        "  maybe_make_dir(rewards_folder)\n",
        "  \n",
        "  # Read the CSV file and por to a numpy dataframe\n",
        "  data = get_data(file)\n",
        "\n",
        "  n_timesteps, n_stocks = data.shape\n",
        "\n",
        "  # use 50% of the data for train and test\n",
        "  n_train = n_timesteps // 2\n",
        "\n",
        "  train_data = data[:n_train]\n",
        "  test_data = data[n_train:]\n",
        "\n",
        "  env = MultiStockEnv(train_data, initial_investment)\n",
        "  state_size = env.state_dim\n",
        "  action_size = len(env.action_space)\n",
        "  agent = DQNAgent(state_size, action_size, gamma, epsilon)\n",
        "  scaler = get_scaler(env)\n",
        "\n",
        "  # store the final value of the portfolio (end of episode)\n",
        "  portfolio_value = []\n",
        "\n",
        "  if (colabEnv =='test'):\n",
        "    # then load the previous scaler\n",
        "    with open(f'{models_folder}/scaler.pkl', 'rb') as f:\n",
        "      scaler = pickle.load(f)\n",
        "\n",
        "    # remake the env with test data\n",
        "    env = MultiStockEnv(test_data, initial_investment)\n",
        "\n",
        "    # make sure epsilon is not 1!\n",
        "    # no need to run multiple episodes if epsilon = 0, it's deterministic\n",
        "    agent.epsilon = 0.01 \n",
        "\n",
        "    # load trained weights colab pd.read_csv\n",
        "    agent.load(f'{models_folder}/linear.npz')\n",
        "\n",
        "  # play the game num_episodes times\n",
        "  for e in range(num_episodes):\n",
        "    t0 = datetime.now()\n",
        "    val = play_one_episode(agent, env, colabEnv)\n",
        "    dt = datetime.now() - t0\n",
        "    #print(f\"episode: {e + 1}/{num_episodes}, episode end value: {val:.2f}, duration: {dt}\")\n",
        "    portfolio_value.append(val) # append episode end portfolio value\n",
        "\n",
        "  # save the weights when we are done\n",
        "  if (colabEnv =='train'):\n",
        "    # save the DQN\n",
        "    agent.save(f'{models_folder}/linear.npz')\n",
        "\n",
        "    # save the scaler\n",
        "    with open(f'{models_folder}/scaler.pkl', 'wb') as f:\n",
        "      pickle.dump(scaler, f)\n",
        "\n",
        "    # plot losses\n",
        "    plt.plot(agent.model.losses)\n",
        "    plt.savefig(f'{rewards_folder}/{mode}-losses.png')\n",
        "    plt.show()\n",
        "    plt.clf()\n",
        "\n",
        "\n",
        "  # save portfolio value for each episode\n",
        "  np.save(f'{rewards_folder}/{mode}.npy', portfolio_value)\n",
        "\n",
        "\n",
        "  # =============================================================\n",
        "  # Print reward charts\n",
        "  # =============================================================\n",
        "\n",
        "  url = f'{rewards_folder}/{mode}.npy'\n",
        "  a = np.load(url)\n",
        "\n",
        "  text = f\"{mode}-{gamma}-{epsilon} - average reward: {a.mean():.2f}, min: {a.min():.2f}, max: {a.max():.2f}\"\n",
        "  print(text)\n",
        "\n",
        "  f=open(reward_txt_file,\"a+\")\n",
        "  f.write(text)\n",
        "  f.write(\"\\r\\n\")\n",
        "  txt_now = f'{datetime.now()}'\n",
        "  f.write(txt_now)\n",
        "  print(txt_now)    \n",
        "  f.write(\"\\r\\n\")  \n",
        "  f.close()\n",
        "\n",
        "  plt.hist(a, bins=20)\n",
        "  plt.title(mode)\n",
        "  # Prepare to save the figure\n",
        "  fig1 = plt.gcf()\n",
        "  plt.show()\n",
        "\n",
        "  fig1.savefig(f'{rewards_folder}/{mode}-{a.mean()}.png')\n",
        "  plt.clf()"
      ],
      "execution_count": 0,
      "outputs": [
        {
          "output_type": "stream",
          "text": [
            "Mounted at /content/drive\n"
          ],
          "name": "stdout"
        },
        {
          "output_type": "display_data",
          "data": {
            "image/png": "[encoded data removed]",
            "text/plain": [
              "<Figure size 432x288 with 1 Axes>"
            ]
          },
          "metadata": {
            "tags": []
          }
        },
        {
          "output_type": "stream",
          "text": [
            "train-0.95-0.95 - average reward: 24715.10, min: 6505.98, max: 144639.97\n",
            "2019-12-07 00:56:50.247737\n"
          ],
          "name": "stdout"
        },
        {
          "output_type": "display_data",
          "data": {
            "image/png": "[encoded data removed]",
            "text/plain": [
              "<Figure size 432x288 with 1 Axes>"
            ]
          },
          "metadata": {
            "tags": []
          }
        },
        {
          "output_type": "stream",
          "text": [
            "test-0.95-0.95 - average reward: 23867.45, min: 11798.04, max: 29470.95\n",
            "2019-12-07 01:03:09.057342\n"
          ],
          "name": "stdout"
        },
        {
          "output_type": "display_data",
          "data": {
            "image/png": "[encoded data removed]",
            "text/plain": [
              "<Figure size 432x288 with 1 Axes>"
            ]
          },
          "metadata": {
            "tags": []
          }
        },
        {
          "output_type": "display_data",
          "data": {
            "image/png": "[encoded data removed]",
            "text/plain": [
              "<Figure size 432x288 with 1 Axes>"
            ]
          },
          "metadata": {
            "tags": []
          }
        },
        {
          "output_type": "stream",
          "text": [
            "train-0.95-0.6 - average reward: 26050.50, min: 7157.21, max: 122182.32\n",
            "2019-12-07 01:17:33.007855\n"
          ],
          "name": "stdout"
        },
        {
          "output_type": "display_data",
          "data": {
            "image/png": "[encoded data removed]",
            "text/plain": [
              "<Figure size 432x288 with 1 Axes>"
            ]
          },
          "metadata": {
            "tags": []
          }
        },
        {
          "output_type": "stream",
          "text": [
            "test-0.95-0.6 - average reward: 19173.80, min: 8763.38, max: 41351.58\n",
            "2019-12-07 01:23:38.361203\n"
          ],
          "name": "stdout"
        },
        {
          "output_type": "display_data",
          "data": {
            "image/png": "[encoded data removed]",
            "text/plain": [
              "<Figure size 432x288 with 1 Axes>"
            ]
          },
          "metadata": {
            "tags": []
          }
        },
        {
          "output_type": "display_data",
          "data": {
            "image/png": "[encoded data removed]",
            "text/plain": [
              "<Figure size 432x288 with 1 Axes>"
            ]
          },
          "metadata": {
            "tags": []
          }
        },
        {
          "output_type": "stream",
          "text": [
            "train-0.75-0.95 - average reward: 25685.05, min: 6823.33, max: 169654.88\n",
            "2019-12-07 01:37:38.720797\n"
          ],
          "name": "stdout"
        },
        {
          "output_type": "display_data",
          "data": {
            "image/png": "[encoded data removed]",
            "text/plain": [
              "<Figure size 432x288 with 1 Axes>"
            ]
          },
          "metadata": {
            "tags": []
          }
        },
        {
          "output_type": "stream",
          "text": [
            "test-0.75-0.95 - average reward: 21112.84, min: 13931.36, max: 33699.51\n",
            "2019-12-07 01:43:56.177923\n"
          ],
          "name": "stdout"
        },
        {
          "output_type": "display_data",
          "data": {
            "image/png": "[encoded data removed]",
            "text/plain": [
              "<Figure size 432x288 with 1 Axes>"
            ]
          },
          "metadata": {
            "tags": []
          }
        },
        {
          "output_type": "display_data",
          "data": {
            "image/png": "[encoded data removed]",
            "text/plain": [
              "<Figure size 432x288 with 1 Axes>"
            ]
          },
          "metadata": {
            "tags": []
          }
        },
        {
          "output_type": "stream",
          "text": [
            "train-0.75-0.6 - average reward: 25243.73, min: 6370.94, max: 131540.72\n",
            "2019-12-07 01:58:06.652694\n"
          ],
          "name": "stdout"
        },
        {
          "output_type": "display_data",
          "data": {
            "image/png": "[encoded data removed]",
            "text/plain": [
              "<Figure size 432x288 with 1 Axes>"
            ]
          },
          "metadata": {
            "tags": []
          }
        },
        {
          "output_type": "stream",
          "text": [
            "test-0.75-0.6 - average reward: 24210.73, min: 12778.18, max: 39194.78\n",
            "2019-12-07 02:04:29.639857\n"
          ],
          "name": "stdout"
        },
        {
          "output_type": "display_data",
          "data": {
            "image/png": "[encoded data removed]",
            "text/plain": [
              "<Figure size 432x288 with 1 Axes>"
            ]
          },
          "metadata": {
            "tags": []
          }
        },
        {
          "output_type": "display_data",
          "data": {
            "image/png": "[encoded data removed]",
            "text/plain": [
              "<Figure size 432x288 with 1 Axes>"
            ]
          },
          "metadata": {
            "tags": []
          }
        },
        {
          "output_type": "stream",
          "text": [
            "train-0.55-0.95 - average reward: 24700.29, min: 6473.24, max: 163889.97\n",
            "2019-12-07 02:18:45.115757\n"
          ],
          "name": "stdout"
        },
        {
          "output_type": "display_data",
          "data": {
            "image/png": "[encoded data removed]",
            "text/plain": [
              "<Figure size 432x288 with 1 Axes>"
            ]
          },
          "metadata": {
            "tags": []
          }
        },
        {
          "output_type": "stream",
          "text": [
            "test-0.55-0.95 - average reward: 23412.54, min: 19240.18, max: 32110.40\n",
            "2019-12-07 02:25:05.922194\n"
          ],
          "name": "stdout"
        },
        {
          "output_type": "display_data",
          "data": {
            "image/png": "[encoded data removed]",
            "text/plain": [
              "<Figure size 432x288 with 1 Axes>"
            ]
          },
          "metadata": {
            "tags": []
          }
        },
        {
          "output_type": "display_data",
          "data": {
            "image/png": "[encoded data removed]",
            "text/plain": [
              "<Figure size 432x288 with 1 Axes>"
            ]
          },
          "metadata": {
            "tags": []
          }
        },
        {
          "output_type": "stream",
          "text": [
            "train-0.55-0.6 - average reward: 24336.50, min: 6825.39, max: 172685.64\n",
            "2019-12-07 02:39:21.475374\n"
          ],
          "name": "stdout"
        },
        {
          "output_type": "display_data",
          "data": {
            "image/png": "[encoded data removed]",
            "text/plain": [
              "<Figure size 432x288 with 1 Axes>"
            ]
          },
          "metadata": {
            "tags": []
          }
        },
        {
          "output_type": "stream",
          "text": [
            "test-0.55-0.6 - average reward: 20019.41, min: 17380.78, max: 22630.76\n",
            "2019-12-07 02:45:32.012464\n"
          ],
          "name": "stdout"
        },
        {
          "output_type": "display_data",
          "data": {
            "image/png": "[encoded data removed]",
            "text/plain": [
              "<Figure size 432x288 with 1 Axes>"
            ]
          },
          "metadata": {
            "tags": []
          }
        }
      ]
    },
    {
      "cell_type": "code",
      "metadata": {
        "id": "Hx7kQpXb0igY",
        "colab_type": "code",
        "colab": {}
      },
      "source": [
        ""
      ],
      "execution_count": 0,
      "outputs": []
    }
  ]
}